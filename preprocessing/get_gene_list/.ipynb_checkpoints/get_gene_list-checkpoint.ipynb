{
 "cells": [
  {
   "cell_type": "code",
   "execution_count": 1,
   "metadata": {
    "collapsed": true
   },
   "outputs": [],
   "source": [
    "import numpy as np\n",
    "import pandas as pd"
   ]
  },
  {
   "cell_type": "markdown",
   "metadata": {},
   "source": [
    "1.) Download Ensembl transcript annotations from [UCSC Table Browser](http://rohsdb.cmb.usc.edu/GBshape/cgi-bin/hgTables?hgsid=3960312_ZMTtI4bvavkuiWrNuR3OxAWB52dn&clade=mammal&org=Human&db=hg19&hgta_group=genes&hgta_track=ensGene&hgta_table=0&hgta_regionType=genome&position=chr21%3A33031597-33041570&hgta_outputType=primaryTable&hgta_outFileName=) using settings specified in the [wiki](https://github.com/keoughkath/ExcisionFinder/wiki/Get-gene-annotations) and name the resulting file ensembl_ucsc_output_grch37.tsv. Ensure you select the correct reference genome, and specify it in the filename in the \"grch37\" spot. Alternatively, get this file [here](http://lighthouse.ucsf.edu/public_files_no_password/excisionFinderData_public/gene_annots/).\n",
    "\n",
    "2.) Download mappings from Ensembl gene IDs to gene symbols from the [HUGO website](https://www.genenames.org/cgi-bin/download) with boxes checked for \"Approved Symbol\" and \"Ensembl Gene ID\". Name the resulting file name_to_id.tsv. Alternatively, download this file [here](http://lighthouse.ucsf.edu/public_files_no_password/excisionFinderData_public/gene_annots/).\n",
    "\n",
    "Files from steps 1 and 2 will need to be in your current directory for the notebook to run correctly.\n",
    "\n",
    "Importantly, it's not required to complete these steps to use ExcisionFinder. You can just use the pre-generated gene annotations file \"gene_annots_wsize\" provided [here](http://lighthouse.ucsf.edu/public_files_no_password/excisionFinderData_public/gene_annots/). This is intended for documentation and reproducibility purposes as well as to allow users to generate their own gene annotations in order to analyze different reference genomes."
   ]
  },
  {
   "cell_type": "code",
   "execution_count": 61,
   "metadata": {
    "collapsed": true
   },
   "outputs": [],
   "source": [
    "def get_gene_annots(ensembl, name_mapping, out):\n",
    "    gene_df = pd.read_csv(ensembl, sep='\\t',\n",
    "                          usecols = ['name','chrom','txStart','txEnd',\n",
    "                                    'cdsStart','cdsEnd','exonStarts',\n",
    "                                    'exonEnds','name2'])\n",
    "    gene_df.columns = ['name','chrom','txStart','txEnd',\n",
    "                                        'cdsStart','cdsEnd','exonStarts',\n",
    "                                        'exonEnds','ensembl_id']\n",
    "    gene_to_id = pd.read_csv(name_mapping, sep='\\t', header=0,\n",
    "                            names=['name2','ensembl_id'])\n",
    "\n",
    "    gene_df['size'] = gene_df['txEnd'] - gene_df['txStart']\n",
    "    gene_df = gene_df.merge(gene_to_id, how='left')\n",
    "    gene_df.to_csv(out, sep='\\t', index=False)"
   ]
  },
  {
   "cell_type": "markdown",
   "metadata": {},
   "source": [
    "# GrCh37"
   ]
  },
  {
   "cell_type": "code",
   "execution_count": 62,
   "metadata": {
    "collapsed": true
   },
   "outputs": [],
   "source": [
    "get_gene_annots('ensembl_ucsc_output_grch37.tsv', 'gene_to_id.tsv', 'gene_annots_wsize_grch37.tsv')"
   ]
  },
  {
   "cell_type": "markdown",
   "metadata": {
    "collapsed": true
   },
   "source": [
    "# GrCh38 - not supported in UCSC yet"
   ]
  },
  {
   "cell_type": "code",
   "execution_count": null,
   "metadata": {
    "collapsed": true
   },
   "outputs": [],
   "source": [
    "# get_gene_annots('ensembl_ucsc_output_grch38.tsv', 'gene_to_id.tsv', 'gene_annots_wsize_grch37.tsv')"
   ]
  }
 ],
 "metadata": {
  "kernelspec": {
   "display_name": "Python 3",
   "language": "python",
   "name": "python3"
  },
  "language_info": {
   "codemirror_mode": {
    "name": "ipython",
    "version": 3
   },
   "file_extension": ".py",
   "mimetype": "text/x-python",
   "name": "python",
   "nbconvert_exporter": "python",
   "pygments_lexer": "ipython3",
   "version": "3.6.1"
  }
 },
 "nbformat": 4,
 "nbformat_minor": 2
}
