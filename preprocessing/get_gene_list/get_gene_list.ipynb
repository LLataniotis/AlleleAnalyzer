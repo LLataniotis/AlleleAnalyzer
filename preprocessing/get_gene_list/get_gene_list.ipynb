{
 "cells": [
  {
   "cell_type": "code",
   "execution_count": 1,
   "metadata": {
    "collapsed": true
   },
   "outputs": [],
   "source": [
    "import numpy as np\n",
    "import pandas as pd"
   ]
  },
  {
   "cell_type": "markdown",
   "metadata": {},
   "source": [
    "# GrCh37\n",
    "\n",
    "1.) Download Ensembl transcript annotations from [UCSC Table Browser](http://rohsdb.cmb.usc.edu/GBshape/cgi-bin/hgTables?hgsid=3960312_ZMTtI4bvavkuiWrNuR3OxAWB52dn&clade=mammal&org=Human&db=hg19&hgta_group=genes&hgta_track=ensGene&hgta_table=0&hgta_regionType=genome&position=chr21%3A33031597-33041570&hgta_outputType=primaryTable&hgta_outFileName=) using settings specified in the [wiki](https://github.com/keoughkath/ExcisionFinder/wiki/Get-gene-annotations) and name the resulting file ensembl_ucsc_output_grch37.tsv. Alternatively, get this file [here](http://lighthouse.ucsf.edu/public_files_no_password/excisionFinderData_public/gene_annots/).\n",
    "\n",
    "2.) Download mappings from Ensembl gene IDs to gene symbols from the [HUGO website](https://www.genenames.org/cgi-bin/download) with boxes checked for \"Approved Symbol\" and \"Ensembl Gene ID\". Name the resulting file gene_to_id_ensembl.tsv.\n",
    "\n",
    "Files from steps 1 and 2 will need to be in your current directory for the notebook to run correctly.\n",
    "\n",
    "# GrCh38\n",
    "\n",
    "1.) Download annotations from UCSC Table Browser and name the resulting file ncbi_ucsc_output_grch38.tsv. Alternatively, get this file [here](http://lighthouse.ucsf.edu/public_files_no_password/excisionFinderData_public/gene_annots/).\n",
    "\n",
    "2.) Download mappings from NCBI RefSeq gene IDs to gene symbols from the [HUGO website](https://www.genenames.org/cgi-bin/download) with boxes checked for \"Approved Symbol\" and \"RefSeq IDs\". Name the resulting file gene_to_id_refseq.tsv.\n",
    "\n",
    "Importantly, it's not required to complete these steps to use ExcisionFinder. You can just use the pre-generated gene annotations file \"gene_annots_wsize_grch37.tsv\" or \"gene_annots_wsize_grch38.tsv\" provided [here](http://lighthouse.ucsf.edu/public_files_no_password/excisionFinderData_public/gene_annots/). This is intended for documentation and reproducibility purposes as well as to allow users to generate their own gene annotations in order to analyze different reference genomes."
   ]
  },
  {
   "cell_type": "code",
   "execution_count": 12,
   "metadata": {
    "collapsed": true
   },
   "outputs": [],
   "source": [
    "def get_gene_annots(ensembl, out, name_mapping=None):\n",
    "    gene_df = pd.read_csv(ensembl, sep='\\t',\n",
    "                          usecols = ['name','chrom','txStart','txEnd',\n",
    "                                    'cdsStart','cdsEnd','exonStarts',\n",
    "                                    'exonEnds','name2'])\n",
    "    if name_mapping:\n",
    "        gene_df.columns = ['name','chrom','txStart','txEnd',\n",
    "                                        'cdsStart','cdsEnd','exonStarts',\n",
    "                                        'exonEnds','external_id']\n",
    "        gene_to_id = pd.read_csv(name_mapping, sep='\\t', header=0,\n",
    "                                names=['gene_name','external_id'])\n",
    "        gene_df = gene_df.merge(gene_to_id, how='left')\n",
    "    gene_df['size'] = gene_df['txEnd'] - gene_df['txStart']\n",
    "    gene_df.to_csv(out, sep='\\t', index=False)"
   ]
  },
  {
   "cell_type": "markdown",
   "metadata": {},
   "source": [
    "# GrCh37"
   ]
  },
  {
   "cell_type": "code",
   "execution_count": 3,
   "metadata": {
    "collapsed": true
   },
   "outputs": [],
   "source": [
    "get_gene_annots('ensembl_ucsc_output_grch37.tsv', 'gene_annots_wsize_grch37.tsv', 'gene_to_id_ensembl.tsv')"
   ]
  },
  {
   "cell_type": "markdown",
   "metadata": {
    "collapsed": true
   },
   "source": [
    "# GrCh38\n",
    "\n",
    "\n",
    "GrCh38 is not fully supported through the UCSC genome prowser for Ensembl transcript annotations. A good alternative is to use the NCBI RefSeq annotations, which can also be downlaoded from the [UCSC Table Browser](http://genome.ucsc.edu/cgi-bin/hgTables?hgsid=658869521_a49RLfkl8V8eYzEFY5hvCyvezAg0&clade=mammal&org=Human&db=hg38&hgta_group=genes&hgta_track=refSeqComposite&hgta_table=ncbiRefSeq&hgta_regionType=range&position=chr1%3A11102837-11267747&hgta_outputType=primaryTable&hgta_outFileName=ncbi_ucsc_output_grch38.tsv). The NCBI RefSeq annotations contain HUGO Approved Symbols in the 'name2' column, allowing you to skip inputing the name_mapping file. "
   ]
  },
  {
   "cell_type": "code",
   "execution_count": 13,
   "metadata": {},
   "outputs": [],
   "source": [
    "get_gene_annots('ncbi_ucsc_output_grch38.tsv', 'gene_annots_wsize_grch38.tsv')"
   ]
  },
  {
   "cell_type": "code",
   "execution_count": null,
   "metadata": {
    "collapsed": true
   },
   "outputs": [],
   "source": []
  }
 ],
 "metadata": {
  "kernelspec": {
   "display_name": "Python 3",
   "language": "python",
   "name": "python3"
  },
  "language_info": {
   "codemirror_mode": {
    "name": "ipython",
    "version": 3
   },
   "file_extension": ".py",
   "mimetype": "text/x-python",
   "name": "python",
   "nbconvert_exporter": "python",
   "pygments_lexer": "ipython3",
   "version": "3.6.1"
  }
 },
 "nbformat": 4,
 "nbformat_minor": 2
}
